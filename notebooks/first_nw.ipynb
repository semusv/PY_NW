{
 "cells": [
  {
   "cell_type": "code",
   "execution_count": 2,
   "id": "64871f46",
   "metadata": {},
   "outputs": [
    {
     "name": "stdout",
     "output_type": "stream",
     "text": [
      "The autoreload extension is already loaded. To reload it, use:\n",
      "  %reload_ext autoreload\n"
     ]
    }
   ],
   "source": [
    "# Настройка autoreload (должно быть в начале ноутбука!)\n",
    "%load_ext autoreload\n",
    "%autoreload 2\n",
    "import sys\n",
    "import os\n",
    "\n",
    "# Получаем абсолютный путь к корню проекта\n",
    "project_root = os.path.abspath(os.path.join('..'))  # Поднимаемся на уровень выше из notebooks/\n",
    "# Добавляем в sys.path ПЕРЕД всеми остальными путями\n",
    "sys.path.insert(0, project_root)\n"
   ]
  },
  {
   "cell_type": "code",
   "execution_count": 9,
   "id": "6dfb6aea",
   "metadata": {
    "tags": [
     "many_in_one_out"
    ]
   },
   "outputs": [
    {
     "name": "stdout",
     "output_type": "stream",
     "text": [
      "0.9800000000000001\n"
     ]
    }
   ],
   "source": [
    "\n",
    "import numpy as np\n",
    "import src.models.first_nw as nw\n",
    "\n",
    "weights = np.array([0.1, 0.2, 0])\n",
    "toes    = np.array([8.5, 9.5, 9.9, 9.0])\n",
    "wlrec   = np.array([0.65, 0.8, 0.8, 0.9])\n",
    "nfans   = np.array([1.2, 1.3, 0.5, 1.0])\n",
    "input   = np.array([toes[0],wlrec[0],nfans[0]])\n",
    "\n",
    "\n",
    "pred = nw.neural_network(input,weights)\n",
    "print(pred)\n"
   ]
  },
  {
   "cell_type": "code",
   "execution_count": 7,
   "id": "cb1d5236",
   "metadata": {
    "tags": [
     "one_in_many_out"
    ]
   },
   "outputs": [
    {
     "name": "stdout",
     "output_type": "stream",
     "text": [
      "[0.195, 0.13, 0.5850000000000001]\n"
     ]
    }
   ],
   "source": [
    "import src.models.one_in_many_out as nw\n",
    "weights = [0.3,0.2,0.9]\n",
    "wlrec = [0.65,0.8,0.8,0.9]\n",
    "input = wlrec[0]\n",
    "pred = nw.neural_network(input,weights)\n",
    "print(pred)"
   ]
  },
  {
   "cell_type": "code",
   "execution_count": 23,
   "id": "44aeb09c",
   "metadata": {},
   "outputs": [
    {
     "name": "stdout",
     "output_type": "stream",
     "text": [
      "[79.75500000000001, 80.18, 0.9650000000000001]\n",
      "[0.64, 1.11, 1.17]\n",
      "[0.92, 1.1500000000000001, 1.09]\n",
      "[0.69, 1.08, 1.2700000000000002]\n",
      "\n",
      "\n",
      "[1.0, 1.0, 0.7241]\n",
      "[0.6548, 0.7521, 0.7631]\n",
      "[0.715, 0.7595, 0.7484]\n",
      "[0.666, 0.7465, 0.7807]\n"
     ]
    }
   ],
   "source": [
    "import src.models.many_in_to_many_out as nw\n",
    "    \n",
    "weights = [\n",
    "    \n",
    "#    Игр  Побед  Болельщик\n",
    "    [0.1,  0.1,   -0.3],  # Веса для \"травмы?\"\n",
    "    [0.1,  0.2,    0.0],  # Веса для \"победы?\"\n",
    "    [0.0,  1.3,    0.1]   # Веса для \"печали?\"\n",
    "]\n",
    "toes  = [800.5 , 9.5, 9.9, 9.0]\n",
    "wlrec = [0.65, 0.8, 0.8, 0.9]\n",
    "nfans = [1.2 , 1.3, 0.5, 1.0]\n",
    "\n",
    "for i in range(len(toes)):\n",
    "    input = [toes[i],wlrec[i],nfans[i]]\n",
    "    pred = nw.neural_network(input,weights,False)\n",
    "    print(pred)\n",
    "print('\\n')\n",
    "for i in range(len(toes)):\n",
    "    input = [toes[i],wlrec[i],nfans[i]]\n",
    "    pred = nw.neural_network(input,weights,True)\n",
    "    print(pred)\n"
   ]
  },
  {
   "cell_type": "code",
   "execution_count": null,
   "id": "ebe2eba9",
   "metadata": {},
   "outputs": [],
   "source": []
  }
 ],
 "metadata": {
  "kernelspec": {
   "display_name": "Python 3",
   "language": "python",
   "name": "python3"
  },
  "language_info": {
   "codemirror_mode": {
    "name": "ipython",
    "version": 3
   },
   "file_extension": ".py",
   "mimetype": "text/x-python",
   "name": "python",
   "nbconvert_exporter": "python",
   "pygments_lexer": "ipython3",
   "version": "3.13.3"
  }
 },
 "nbformat": 4,
 "nbformat_minor": 5
}
